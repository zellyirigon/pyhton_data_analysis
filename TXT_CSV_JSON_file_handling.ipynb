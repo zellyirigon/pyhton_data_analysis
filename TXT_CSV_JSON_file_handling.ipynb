{
 "cells": [
  {
   "cell_type": "markdown",
   "id": "55966a3f-60bc-4eb8-9367-84e0eb27bfd6",
   "metadata": {},
   "source": [
    "# TXT File Handling"
   ]
  },
  {
   "cell_type": "code",
   "execution_count": 1,
   "id": "f8d3913b-cfc6-4497-9c0c-69d402be6521",
   "metadata": {},
   "outputs": [],
   "source": [
    "!pip install -q -U watermark"
   ]
  },
  {
   "cell_type": "code",
   "execution_count": 2,
   "id": "42d84e9a-ed1a-48c8-b6c8-ce5f44fa7c64",
   "metadata": {},
   "outputs": [
    {
     "name": "stdout",
     "output_type": "stream",
     "text": [
      "Author: Zelly Irigon\n",
      "\n"
     ]
    }
   ],
   "source": [
    "%reload_ext watermark\n",
    "%watermark -a \"Zelly Irigon\""
   ]
  },
  {
   "cell_type": "code",
   "execution_count": 3,
   "id": "f9f049e4-6e35-48f6-b705-0b071b8bc707",
   "metadata": {},
   "outputs": [],
   "source": [
    "text = 'Data Scientist can be an excellent career option.\\n'\n",
    "text += 'These professionals need to know how to work in Python.\\n'\n",
    "text += 'And, of course, must be experts in Data Science.'"
   ]
  },
  {
   "cell_type": "code",
   "execution_count": 4,
   "id": "50781d46-9bd2-4ee1-a99e-1905e36e4339",
   "metadata": {},
   "outputs": [
    {
     "name": "stdout",
     "output_type": "stream",
     "text": [
      "Data Scientist can be an excellent career option.\n",
      "These professionals need to know how to work in Python.\n",
      "And, of course, must be experts in Data Science.\n"
     ]
    }
   ],
   "source": [
    "print(text)"
   ]
  },
  {
   "cell_type": "code",
   "execution_count": 5,
   "id": "7376591c-da82-4943-8481-fcf6e0e497b2",
   "metadata": {},
   "outputs": [],
   "source": [
    "# Importing OS package\n",
    "import os"
   ]
  },
  {
   "cell_type": "code",
   "execution_count": 6,
   "id": "352b5b99-3aff-4c80-b541-aa06dac11e6c",
   "metadata": {},
   "outputs": [],
   "source": [
    "# Creating a file\n",
    "file = open(os.path.join('files/scientist.txt'),'w')"
   ]
  },
  {
   "cell_type": "code",
   "execution_count": 7,
   "id": "e24e09c7-e550-4f18-9e0b-e4e78fb0631c",
   "metadata": {},
   "outputs": [],
   "source": [
    "# Writing the data in the file\n",
    "for word in text.split():\n",
    "    file.write(word + ' ')"
   ]
  },
  {
   "cell_type": "code",
   "execution_count": 8,
   "id": "8f33ce3c-5e4d-4ff1-abca-8554e2376160",
   "metadata": {},
   "outputs": [],
   "source": [
    "# Closing the file\n",
    "file.close()"
   ]
  },
  {
   "cell_type": "code",
   "execution_count": 9,
   "id": "4cbc9aab-7c45-42df-acef-9136907adda8",
   "metadata": {},
   "outputs": [
    {
     "name": "stdout",
     "output_type": "stream",
     "text": [
      "Data Scientist can be an excellent career option. These professionals need to know how to work in Python. And, of course, must be experts in Data Science. \n"
     ]
    }
   ],
   "source": [
    "# Reading the file\n",
    "file = open('files/scientist.txt', 'r')\n",
    "content = file.read()\n",
    "file.close()\n",
    "print(content)"
   ]
  },
  {
   "cell_type": "markdown",
   "id": "9ec2e1c0-89f8-4c6c-99ff-4ef528a225d1",
   "metadata": {},
   "source": [
    "**Using the Expression 'with'**\n",
    "\n",
    "> The close() method is automatically executed."
   ]
  },
  {
   "cell_type": "code",
   "execution_count": 10,
   "id": "d225e720-5210-4ecf-b0d2-f951a661ebd3",
   "metadata": {},
   "outputs": [],
   "source": [
    "with open('files/scientist.txt', 'r') as file:\n",
    "    content = file.read()"
   ]
  },
  {
   "cell_type": "code",
   "execution_count": 11,
   "id": "af60f6ea-e5a4-4bd7-acaa-4e96e6bfd05e",
   "metadata": {},
   "outputs": [
    {
     "data": {
      "text/plain": [
       "155"
      ]
     },
     "execution_count": 11,
     "metadata": {},
     "output_type": "execute_result"
    }
   ],
   "source": [
    "len(content)"
   ]
  },
  {
   "cell_type": "code",
   "execution_count": 12,
   "id": "2ea187e4-3919-4173-b7de-46ee49a090e9",
   "metadata": {},
   "outputs": [
    {
     "data": {
      "text/plain": [
       "'Data Scientist can be an excellent career option. These professionals need to know how to work in Python. And, of course, must be experts in Data Science. '"
      ]
     },
     "execution_count": 12,
     "metadata": {},
     "output_type": "execute_result"
    }
   ],
   "source": [
    "content"
   ]
  },
  {
   "cell_type": "code",
   "execution_count": 13,
   "id": "91da4ca2-afe9-421d-819f-4beb76dd03f6",
   "metadata": {},
   "outputs": [],
   "source": [
    "with open('files/scientist.txt', 'w') as file:\n",
    "    file.write(text[:15])\n",
    "    file.write('\\n')\n",
    "    file.write(text[22:49])\n"
   ]
  },
  {
   "cell_type": "code",
   "execution_count": 14,
   "id": "37d40c96-166f-45c5-8a1e-58fce658522c",
   "metadata": {},
   "outputs": [
    {
     "name": "stdout",
     "output_type": "stream",
     "text": [
      "Data Scientist \n",
      "an excellent career option.\n"
     ]
    }
   ],
   "source": [
    "# Reading the file\n",
    "file = open('files/scientist.txt','r')\n",
    "content = file.read()\n",
    "file.close()\n",
    "print(content)"
   ]
  },
  {
   "cell_type": "markdown",
   "id": "8771df71-a6d6-4213-9329-0dd663319f87",
   "metadata": {},
   "source": [
    "# CSV File Handling"
   ]
  },
  {
   "cell_type": "code",
   "execution_count": 15,
   "id": "63de0575-7b42-4d91-8138-a6b81edc8530",
   "metadata": {},
   "outputs": [],
   "source": [
    "import csv"
   ]
  },
  {
   "cell_type": "code",
   "execution_count": 16,
   "id": "5b0ecc77-f9d6-468d-8147-cf578cf34791",
   "metadata": {},
   "outputs": [],
   "source": [
    "with open('files/numbers.csv', 'w') as file:\n",
    "    # creating the object\n",
    "    writer = csv.writer(file)\n",
    "    \n",
    "    # Write the file row by row\n",
    "    writer.writerow(('grade1', 'grade2', 'grade3'))\n",
    "    writer.writerow((63,87,92))\n",
    "    writer.writerow((61,79,76))\n",
    "    writer.writerow((72,64,91))"
   ]
  },
  {
   "cell_type": "code",
   "execution_count": 17,
   "id": "ac3c7972-402f-43b8-a4c0-9baa516a0568",
   "metadata": {},
   "outputs": [
    {
     "name": "stdout",
     "output_type": "stream",
     "text": [
      "['grade1', 'grade2', 'grade3']\n",
      "['63', '87', '92']\n",
      "['61', '79', '76']\n",
      "['72', '64', '91']\n"
     ]
    }
   ],
   "source": [
    "# Reading files in csv\n",
    "with open('files/numbers.csv', 'r', encoding ='utf8', newline = '\\r\\n') as file:\n",
    "\n",
    "    # creating the read object\n",
    "    reader = csv.reader(file)\n",
    "\n",
    "    # loop\n",
    "    for x in reader:\n",
    "        print(x)"
   ]
  },
  {
   "cell_type": "code",
   "execution_count": 18,
   "id": "041dab52-22d4-43ab-830c-b02169bc4ca2",
   "metadata": {},
   "outputs": [],
   "source": [
    "# Data list of CSV file\n",
    "with open('files/numbers.csv','r') as file:\n",
    "    reader = csv.reader(file)\n",
    "    data = list(reader)"
   ]
  },
  {
   "cell_type": "code",
   "execution_count": 19,
   "id": "824ec556-67d6-4d1e-bb60-faf70461150f",
   "metadata": {},
   "outputs": [
    {
     "name": "stdout",
     "output_type": "stream",
     "text": [
      "[['grade1', 'grade2', 'grade3'], [], ['63', '87', '92'], [], ['61', '79', '76'], [], ['72', '64', '91'], []]\n"
     ]
    }
   ],
   "source": [
    "print(data)"
   ]
  },
  {
   "cell_type": "code",
   "execution_count": 21,
   "id": "66c26fb5-96ef-41f4-a78e-f12852db057c",
   "metadata": {},
   "outputs": [
    {
     "name": "stdout",
     "output_type": "stream",
     "text": [
      "[]\n",
      "['63', '87', '92']\n",
      "[]\n",
      "['61', '79', '76']\n",
      "[]\n",
      "['72', '64', '91']\n",
      "[]\n"
     ]
    }
   ],
   "source": [
    "# Printing from the second row\n",
    "for row in data[1:]:\n",
    "    print(row)"
   ]
  },
  {
   "cell_type": "markdown",
   "id": "bcc600b8-b46a-4acf-be11-1aaffd748f49",
   "metadata": {},
   "source": [
    "# JSON File Handling"
   ]
  },
  {
   "cell_type": "code",
   "execution_count": 22,
   "id": "8571221d-c941-46a8-b866-1209f03159ff",
   "metadata": {},
   "outputs": [],
   "source": [
    "# Creating a python dictionary\n",
    "# Guido Von Rossum is the Python creator\n",
    "dict_guido ={'name' : 'Guido Van Rossum',\n",
    "             'language': 'Python',\n",
    "             'similar':['c','Modula-3','lisp'],\n",
    "             'users': 1000000}"
   ]
  },
  {
   "cell_type": "code",
   "execution_count": 23,
   "id": "77676b7b-b397-4c4f-bb54-0d7ce447c401",
   "metadata": {},
   "outputs": [
    {
     "name": "stdout",
     "output_type": "stream",
     "text": [
      "name Guido Van Rossum\n",
      "language Python\n",
      "similar ['c', 'Modula-3', 'lisp']\n",
      "users 1000000\n"
     ]
    }
   ],
   "source": [
    "for k,v in dict_guido.items():\n",
    "    print(k,v)"
   ]
  },
  {
   "cell_type": "code",
   "execution_count": 24,
   "id": "86870a57-0cb5-4311-882d-c2befa6ee811",
   "metadata": {},
   "outputs": [],
   "source": [
    "# Importing JSON mode\n",
    "import json"
   ]
  },
  {
   "cell_type": "code",
   "execution_count": 25,
   "id": "e83698f1-c776-476b-b95c-f2eea308d80a",
   "metadata": {},
   "outputs": [
    {
     "data": {
      "text/plain": [
       "'{\"name\": \"Guido Van Rossum\", \"language\": \"Python\", \"similar\": [\"c\", \"Modula-3\", \"lisp\"], \"users\": 1000000}'"
      ]
     },
     "execution_count": 25,
     "metadata": {},
     "output_type": "execute_result"
    }
   ],
   "source": [
    "# Converting the dictionary to JSON object\n",
    "json.dumps(dict_guido)"
   ]
  },
  {
   "cell_type": "code",
   "execution_count": 26,
   "id": "1d77d391-d51e-442f-93f0-90d5293c073e",
   "metadata": {},
   "outputs": [],
   "source": [
    "# Creating a JSON file\n",
    "with open('files/data.json', 'w') as file:\n",
    "    file.write(json.dumps(dict_guido))"
   ]
  },
  {
   "cell_type": "code",
   "execution_count": 27,
   "id": "b005f9ee-17ec-4e6a-8149-f8b470fd038b",
   "metadata": {},
   "outputs": [],
   "source": [
    "# Reading JSON files\n",
    "with open('files/data.json','r') as file:\n",
    "    text = file.read()\n",
    "    data = json.loads(text)"
   ]
  },
  {
   "cell_type": "code",
   "execution_count": 28,
   "id": "189f14ca-f699-4324-8035-cb6d92b23161",
   "metadata": {},
   "outputs": [
    {
     "data": {
      "text/plain": [
       "{'name': 'Guido Van Rossum',\n",
       " 'language': 'Python',\n",
       " 'similar': ['c', 'Modula-3', 'lisp'],\n",
       " 'users': 1000000}"
      ]
     },
     "execution_count": 28,
     "metadata": {},
     "output_type": "execute_result"
    }
   ],
   "source": [
    "data"
   ]
  },
  {
   "cell_type": "code",
   "execution_count": 31,
   "id": "62b57920-7ca3-461f-8b38-afffb5a51e0b",
   "metadata": {},
   "outputs": [
    {
     "name": "stdout",
     "output_type": "stream",
     "text": [
      "Guido Van Rossum\n"
     ]
    }
   ],
   "source": [
    "print(data['name'])"
   ]
  },
  {
   "cell_type": "markdown",
   "id": "0f55de1e-d44f-4057-a861-667df9308976",
   "metadata": {},
   "source": [
    "### Extraction Files from the Web"
   ]
  },
  {
   "cell_type": "code",
   "execution_count": 32,
   "id": "62adfce6-8135-482c-843e-f10474ca9100",
   "metadata": {},
   "outputs": [],
   "source": [
    "# Printing a JSON file from the internet\n",
    "from urllib.request import urlopen\n",
    "\n",
    "response = urlopen('http://vimeo.com/api/v2/video/57733101.json').read().decode('utf8')\n",
    "data = json.loads(response)[0]"
   ]
  },
  {
   "cell_type": "code",
   "execution_count": 33,
   "id": "4218ed1b-5616-4916-9813-4a01e829a3c0",
   "metadata": {},
   "outputs": [
    {
     "data": {
      "text/plain": [
       "{'id': 57733101,\n",
       " 'title': 'The Good Man trailer',\n",
       " 'description': 'Trailer for the Manifesto Films production, The Good Man, now available in UK/Ireland/US/Canada/Australia/New Zealand on iTunes (https://itunes.apple.com/us/movie/the-good-man/id873130906) and DVD (http://www.amazon.co.uk/The-Good-Man-Aiden-Gillen/dp/B00IIK6CGU/). Co-production with Jet Black Entertainment (South Africa). Starring Aidan Gillen, Thabang Sidloyi, Kelly Campbell, Lunathi Mampofu. Written & directed by Phil Harrison. More info at www.thegoodmanfilm.com<br />\\r\\n<br />\\r\\nCheck out the Variety Magazine review here: http://www.variety.com/review/VE1117947909/',\n",
       " 'url': 'https://vimeo.com/57733101',\n",
       " 'upload_date': '2013-01-19 04:01:15',\n",
       " 'thumbnail_small': 'https://i.vimeocdn.com/video/436057121-e828a1f5478ec0136e957753d107f2a1268c64def9b82faac37c8e30c031cff2-d_100x75',\n",
       " 'thumbnail_medium': 'https://i.vimeocdn.com/video/436057121-e828a1f5478ec0136e957753d107f2a1268c64def9b82faac37c8e30c031cff2-d_200x150',\n",
       " 'thumbnail_large': 'https://i.vimeocdn.com/video/436057121-e828a1f5478ec0136e957753d107f2a1268c64def9b82faac37c8e30c031cff2-d_640',\n",
       " 'user_id': 1334563,\n",
       " 'user_name': 'Manifesto Films',\n",
       " 'user_url': 'https://vimeo.com/manifestofilms',\n",
       " 'user_portrait_small': 'https://i.vimeocdn.com/portrait/4778306_30x30',\n",
       " 'user_portrait_medium': 'https://i.vimeocdn.com/portrait/4778306_75x75',\n",
       " 'user_portrait_large': 'https://i.vimeocdn.com/portrait/4778306_100x100',\n",
       " 'user_portrait_huge': 'https://i.vimeocdn.com/portrait/4778306_300x300',\n",
       " 'stats_number_of_likes': 18,\n",
       " 'stats_number_of_plays': 6735,\n",
       " 'stats_number_of_comments': 0,\n",
       " 'duration': 143,\n",
       " 'width': 1024,\n",
       " 'height': 576,\n",
       " 'tags': 'belfast, cape town, africa, ireland, film',\n",
       " 'embed_privacy': 'anywhere'}"
      ]
     },
     "execution_count": 33,
     "metadata": {},
     "output_type": "execute_result"
    }
   ],
   "source": [
    "data"
   ]
  },
  {
   "cell_type": "code",
   "execution_count": 35,
   "id": "22cb32af-1e4c-48d9-a797-9297d080663d",
   "metadata": {},
   "outputs": [
    {
     "name": "stdout",
     "output_type": "stream",
     "text": [
      "Title:  The Good Man trailer\n",
      "URL:  https://vimeo.com/57733101\n",
      "Duration:  143\n",
      "Number of Plays:  6735\n"
     ]
    }
   ],
   "source": [
    "# Extracting some information from the JSON file above\n",
    "print('Title: ', data['title'])\n",
    "print('URL: ', data['url'])\n",
    "print('Duration: ', data['duration'])\n",
    "print('Number of Plays: ', data['stats_number_of_plays'])"
   ]
  },
  {
   "cell_type": "markdown",
   "id": "916ceec3-545b-496a-943f-e32bf5004b32",
   "metadata": {},
   "source": [
    "> Copying the content from one file to another."
   ]
  },
  {
   "cell_type": "code",
   "execution_count": 36,
   "id": "64543b11-2549-423d-a0d3-9406d1621504",
   "metadata": {},
   "outputs": [],
   "source": [
    "# Files name\n",
    "file_source = 'files/data.json'\n",
    "file_destination = 'files/data.txt'"
   ]
  },
  {
   "cell_type": "code",
   "execution_count": 38,
   "id": "f9072c6a-8bbb-4399-9ddd-c6b9cb274188",
   "metadata": {},
   "outputs": [],
   "source": [
    "# Method 1\n",
    "with open(file_source, 'r') as infile:\n",
    "    text = infile.read()\n",
    "    with open (file_destination, 'w') as outfile:\n",
    "        outfile.write(text)"
   ]
  },
  {
   "cell_type": "code",
   "execution_count": 39,
   "id": "28e935f1-3c24-4ba6-9595-00da775390d6",
   "metadata": {},
   "outputs": [
    {
     "data": {
      "text/plain": [
       "106"
      ]
     },
     "execution_count": 39,
     "metadata": {},
     "output_type": "execute_result"
    }
   ],
   "source": [
    "# Method 2\n",
    "open(file_destination, 'w').write(open(file_source,'r').read())"
   ]
  },
  {
   "cell_type": "code",
   "execution_count": 40,
   "id": "ab1abe20-2954-4a9f-918c-20cf94324a14",
   "metadata": {},
   "outputs": [],
   "source": [
    "# Reading TXT file\n",
    "with open('files/data.txt','r') as file:\n",
    "    text = file.read()\n",
    "    data = json.loads(text)"
   ]
  },
  {
   "cell_type": "code",
   "execution_count": 41,
   "id": "2acc768d-dba9-403c-8f96-43093e71bcb9",
   "metadata": {},
   "outputs": [
    {
     "name": "stdout",
     "output_type": "stream",
     "text": [
      "{'name': 'Guido Van Rossum', 'language': 'Python', 'similar': ['c', 'Modula-3', 'lisp'], 'users': 1000000}\n"
     ]
    }
   ],
   "source": [
    "print(data)"
   ]
  },
  {
   "cell_type": "markdown",
   "id": "d276385b-fb83-4e96-98fd-e89815e1e428",
   "metadata": {},
   "source": [
    "# End"
   ]
  },
  {
   "cell_type": "code",
   "execution_count": null,
   "id": "49a0354f-3359-4c1c-ba14-c8e4a5d26e82",
   "metadata": {},
   "outputs": [],
   "source": []
  }
 ],
 "metadata": {
  "kernelspec": {
   "display_name": "Python 3 (ipykernel)",
   "language": "python",
   "name": "python3"
  },
  "language_info": {
   "codemirror_mode": {
    "name": "ipython",
    "version": 3
   },
   "file_extension": ".py",
   "mimetype": "text/x-python",
   "name": "python",
   "nbconvert_exporter": "python",
   "pygments_lexer": "ipython3",
   "version": "3.11.7"
  }
 },
 "nbformat": 4,
 "nbformat_minor": 5
}
