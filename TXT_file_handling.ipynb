{
 "cells": [
  {
   "cell_type": "markdown",
   "id": "55966a3f-60bc-4eb8-9367-84e0eb27bfd6",
   "metadata": {},
   "source": [
    "# TXT File Handling"
   ]
  },
  {
   "cell_type": "code",
   "execution_count": 1,
   "id": "f8d3913b-cfc6-4497-9c0c-69d402be6521",
   "metadata": {},
   "outputs": [],
   "source": [
    "!pip install -q -U watermark"
   ]
  },
  {
   "cell_type": "code",
   "execution_count": 3,
   "id": "42d84e9a-ed1a-48c8-b6c8-ce5f44fa7c64",
   "metadata": {},
   "outputs": [
    {
     "name": "stdout",
     "output_type": "stream",
     "text": [
      "Author: Zelly Irigon\n",
      "\n"
     ]
    }
   ],
   "source": [
    "%reload_ext watermark\n",
    "%watermark -a \"Zelly Irigon\""
   ]
  },
  {
   "cell_type": "code",
   "execution_count": null,
   "id": "7376591c-da82-4943-8481-fcf6e0e497b2",
   "metadata": {},
   "outputs": [],
   "source": []
  }
 ],
 "metadata": {
  "kernelspec": {
   "display_name": "Python 3 (ipykernel)",
   "language": "python",
   "name": "python3"
  },
  "language_info": {
   "codemirror_mode": {
    "name": "ipython",
    "version": 3
   },
   "file_extension": ".py",
   "mimetype": "text/x-python",
   "name": "python",
   "nbconvert_exporter": "python",
   "pygments_lexer": "ipython3",
   "version": "3.11.7"
  }
 },
 "nbformat": 4,
 "nbformat_minor": 5
}
